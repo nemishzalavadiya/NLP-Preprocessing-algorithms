{
 "cells": [
  {
   "cell_type": "markdown",
   "metadata": {},
   "source": [
    "# Imports"
   ]
  },
  {
   "cell_type": "code",
   "execution_count": 1,
   "metadata": {},
   "outputs": [],
   "source": [
    "import re\n",
    "from collections import Counter"
   ]
  },
  {
   "cell_type": "markdown",
   "metadata": {},
   "source": [
    "## Tokenize the document"
   ]
  },
  {
   "cell_type": "code",
   "execution_count": 2,
   "metadata": {},
   "outputs": [],
   "source": [
    "# function to tokenise words\n",
    "def words(document):\n",
    "    \"Convert text to lower case and tokenise the document\"\n",
    "    return re.findall(r'\\w+', document.lower())"
   ]
  },
  {
   "cell_type": "code",
   "execution_count": 3,
   "metadata": {},
   "outputs": [],
   "source": [
    "# create a frequency table of all the words of the document\n",
    "all_words = Counter(words(open('big.txt').read()))"
   ]
  },
  {
   "cell_type": "code",
   "execution_count": 4,
   "metadata": {},
   "outputs": [
    {
     "data": {
      "text/plain": [
       "135"
      ]
     },
     "execution_count": 4,
     "metadata": {},
     "output_type": "execute_result"
    }
   ],
   "source": [
    "# check frequency of a random word, say, 'chair'\n",
    "all_words['chair']"
   ]
  },
  {
   "cell_type": "code",
   "execution_count": 5,
   "metadata": {},
   "outputs": [
    {
     "data": {
      "text/plain": [
       "[('the', 79809),\n",
       " ('of', 40024),\n",
       " ('and', 38311),\n",
       " ('to', 28765),\n",
       " ('in', 22020),\n",
       " ('a', 21124),\n",
       " ('that', 12512),\n",
       " ('he', 12401),\n",
       " ('was', 11410),\n",
       " ('it', 10681)]"
      ]
     },
     "execution_count": 5,
     "metadata": {},
     "output_type": "execute_result"
    }
   ],
   "source": [
    "# look at top 10 frequent words\n",
    "all_words.most_common(10)"
   ]
  },
  {
   "cell_type": "code",
   "execution_count": 17,
   "metadata": {},
   "outputs": [],
   "source": [
    "def edits_one(word):\n",
    "    \"Create all edits that are one edit away from `word`.\"\n",
    "    alphabets    = 'abcdefghijklmnopqrstuvwxyz'\n",
    "    splits     = [(word[:i], word[i:])                   for i in range(len(word) + 1)]\n",
    "    #print(\"splits\",splits,sep=\"\\n\")\n",
    "    deletes    = [left + right[1:]                       for left, right in splits if right]\n",
    "    #print(\"deletes\",deletes,sep=\"\\n\")\n",
    "    inserts    = [left + c + right                       for left, right in splits for c in alphabets]\n",
    "    #print(\"inserts\",inserts,sep=\"\\n\")\n",
    "    replaces   = [left + c + right[1:]                   for left, right in splits if right for c in alphabets]\n",
    "    #print(\"replaces\",replaces,sep=\"\\n\")\n",
    "    transposes = [left + right[1] + right[0] + right[2:] for left, right in splits if len(right)>1]\n",
    "    #print(\"transposes\",transposes,sep=\"\\n\")\n",
    "    return set(deletes + inserts + replaces + transposes)"
   ]
  },
  {
   "cell_type": "code",
   "execution_count": 18,
   "metadata": {},
   "outputs": [],
   "source": [
    "def edits_two(word):\n",
    "    \"Create all edits that are two edits away from `word`.\"\n",
    "    return (e2 for e1 in edits_one(word) for e2 in edits_one(e1))"
   ]
  },
  {
   "cell_type": "markdown",
   "metadata": {},
   "source": [
    "## This function filter out all the correct words which are generated"
   ]
  },
  {
   "cell_type": "code",
   "execution_count": 25,
   "metadata": {},
   "outputs": [],
   "source": [
    "def known(words):\n",
    "    \"The subset of `words` that appear in the `all_words`.\"\n",
    "    return set(word for word in words if word in all_words)"
   ]
  },
  {
   "cell_type": "code",
   "execution_count": 26,
   "metadata": {},
   "outputs": [],
   "source": [
    "def possible_corrections(word):\n",
    "    \"Generate possible spelling corrections for word.\"\n",
    "    return (known([word]) or known(edits_one(word)) or known(edits_two(word)) or [word])"
   ]
  },
  {
   "cell_type": "code",
   "execution_count": 44,
   "metadata": {},
   "outputs": [
    {
     "data": {
      "text/plain": [
       "{'bonny', 'money'}"
      ]
     },
     "execution_count": 44,
     "metadata": {},
     "output_type": "execute_result"
    }
   ],
   "source": [
    "possible_corrections(\"monny\")"
   ]
  },
  {
   "cell_type": "code",
   "execution_count": 28,
   "metadata": {},
   "outputs": [],
   "source": [
    "def prob(word, N=sum(all_words.values())): \n",
    "    \"Probability of `word`: Number of appearances of 'word' / total number of tokens\"\n",
    "    return all_words[word] / N"
   ]
  },
  {
   "cell_type": "code",
   "execution_count": 45,
   "metadata": {},
   "outputs": [
    {
     "name": "stdout",
     "output_type": "stream",
     "text": [
      "336\n",
      "{'monfney', 'monneyz', 'monnely', 'mmnney', 'monxney', 'monnehy', 'monnemy', 'mosnney', 'monnyy', 'monnex', 'monnjy', 'monnek', 'monneyk', 'monnes', 'monneu', 'qmonney', 'monnkey', 'moneny', 'mongney', 'monneyc', 'monneyd', 'mpnney', 'monneiy', 'monxey', 'monneyi', 'mtnney', 'moneey', 'monncy', 'mynney', 'monny', 'monnery', 'zonney', 'mgnney', 'monney', 'monngey', 'monneyh', 'monpey', 'monnpy', 'monoey', 'monuney', 'motnney', 'monnxey', 'monnewy', 'mvnney', 'munney', 'monneyr', 'mkonney', 'msonney', 'money', 'morney', 'monrey', 'mwnney', 'monneyy', 'monneyg', 'mjnney', 'monnecy', 'monhey', 'monsey', 'moenney', 'monnry', 'bonney', 'wonney', 'mbnney', 'mwonney', 'monnpey', 'monvey', 'moniey', 'monnwy', 'momnney', 'mfnney', 'nonney', 'mobney', 'rmonney', 'eonney', 'mknney', 'monneyo', 'monnay', 'monnny', 'mondney', 'moiney', 'monnep', 'monnzey', 'jmonney', 'mobnney', 'moeney', 'mnney', 'monnvey', 'monkney', 'myonney', 'monnsey', 'moznney', 'monnejy', 'mounney', 'mooney', 'xonney', 'monnuey', 'monneqy', 'mocnney', 'ronney', 'monneyt', 'monyney', 'monzney', 'monneyw', 'monnesy', 'mbonney', 'aonney', 'monnej', 'monneys', 'monntey', 'monneyj', 'ymonney', 'mmonney', 'mcnney', 'monneyv', 'monneo', 'mxonney', 'monnyey', 'mhnney', 'mnonney', 'monnexy', 'monnefy', 'donney', 'imonney', 'monnfey', 'mgonney', 'ponney', 'meonney', 'mionney', 'monnaey', 'bmonney', 'mowney', 'mononey', 'mojney', 'lmonney', 'monned', 'monnwey', 'monnen', 'monwney', 'muonney', 'monneey', 'monniy', 'monneh', 'moinney', 'monnei', 'mondey', 'mvonney', 'gmonney', 'monmey', 'molnney', 'monuey', 'monnky', 'monnety', 'movney', 'moniney', 'monneby', 'monjey', 'monqey', 'vonney', 'moknney', 'monnye', 'moncney', 'monnee', 'mponney', 'monnegy', 'monneym', 'mogney', 'uonney', 'fonney', 'molney', 'mlnney', 'mosney', 'oonney', 'moxney', 'monrney', 'gonney', 'monnjey', 'monlney', 'monneoy', 'monnel', 'omonney', 'modnney', 'monneye', 'monnmy', 'mognney', 'modney', 'mohney', 'mlonney', 'mongey', 'monne', 'motney', 'mozney', 'mqnney', 'monneyl', 'mofnney', 'monndey', 'mokney', 'monmney', 'smonney', 'monnhy', 'monnrey', 'monvney', 'monneq', 'sonney', 'monnty', 'monqney', 'mocney', 'onney', 'monnqey', 'mopnney', 'mjonney', 'monhney', 'momney', 'moanney', 'mnoney', 'mzonney', 'monnsy', 'moonney', 'emonney', 'monneya', 'monley', 'mojnney', 'montney', 'monnhey', 'wmonney', 'monnmey', 'omnney', 'ionney', 'monyey', 'monaey', 'monniey', 'monnley', 'monnew', 'vmonney', 'moaney', 'monnec', 'qonney', 'monnuy', 'mhonney', 'moneney', 'monwey', 'monaney', 'konney', 'montey', 'monneyb', 'moqnney', 'monnedy', 'mqonney', 'yonney', 'moxnney', 'minney', 'monnepy', 'mofney', 'monfey', 'monneyu', 'movnney', 'conney', 'monnxy', 'moyney', 'msnney', 'monneyf', 'menney', 'manney', 'monnoy', 'umonney', 'monnfy', 'mrnney', 'mdonney', 'amonney', 'monneyp', 'monnev', 'monpney', 'monneb', 'monbey', 'monnem', 'moncey', 'monnvy', 'mownney', 'kmonney', 'lonney', 'mconney', 'monnevy', 'monnby', 'monnzy', 'fmonney', 'monneyx', 'jonney', 'pmonney', 'tmonney', 'monneg', 'monnet', 'monncey', 'mouney', 'honney', 'mopney', 'mdnney', 'tonney', 'monkey', 'monnney', 'mznney', 'monneyn', 'monneyq', 'moqney', 'mfonney', 'monneny', 'monnqy', 'monnef', 'dmonney', 'monnbey', 'mxnney', 'monnoey', 'monngy', 'monnezy', 'mornney', 'monzey', 'mronney', 'monnea', 'monner', 'monnez', 'monbney', 'mohnney', 'monneky', 'monndy', 'xmonney', 'monnly', 'zmonney', 'monsney', 'mtonney', 'cmonney', 'maonney', 'monneuy', 'monjney', 'nmonney', 'moynney', 'mnnney', 'hmonney', 'monneay'}\n"
     ]
    }
   ],
   "source": [
    "print(len(set(edits_one(\"monney\"))))\n",
    "print(edits_one(\"monney\"))"
   ]
  },
  {
   "cell_type": "code",
   "execution_count": 46,
   "metadata": {},
   "outputs": [
    {
     "name": "stdout",
     "output_type": "stream",
     "text": [
      "{'money', 'monkey'}\n"
     ]
    }
   ],
   "source": [
    "print(known(edits_one(\"monney\")))"
   ]
  },
  {
   "cell_type": "code",
   "execution_count": 47,
   "metadata": {},
   "outputs": [
    {
     "name": "stdout",
     "output_type": "stream",
     "text": [
      "51013\n",
      "{'money', 'monkey'}\n"
     ]
    }
   ],
   "source": [
    "# Let's look at words that are two edits away\n",
    "print(len(set(edits_two(\"monney\"))))\n",
    "print(known(edits_one(\"monney\")))"
   ]
  },
  {
   "cell_type": "code",
   "execution_count": 48,
   "metadata": {},
   "outputs": [
    {
     "name": "stdout",
     "output_type": "stream",
     "text": [
      "{'money', 'monkey'}\n"
     ]
    }
   ],
   "source": [
    "# Let's look at possible corrections of a word\n",
    "print(possible_corrections(\"monney\"))"
   ]
  },
  {
   "cell_type": "code",
   "execution_count": 49,
   "metadata": {},
   "outputs": [
    {
     "name": "stdout",
     "output_type": "stream",
     "text": [
      "0.0002922385563056744\n",
      "5.378623735687258e-06\n"
     ]
    }
   ],
   "source": [
    "# Let's look at probability of a word\n",
    "print(prob(\"money\"))\n",
    "print(prob(\"monkey\"))"
   ]
  },
  {
   "cell_type": "code",
   "execution_count": 50,
   "metadata": {},
   "outputs": [],
   "source": [
    "def spell_check(word):\n",
    "    \"Print the most probable spelling correction for `word` out of all the `possible_corrections`\"\n",
    "    correct_word = max(possible_corrections(word), key=prob)\n",
    "    if correct_word != word:\n",
    "        return \"Did you mean \" + correct_word + \"?\"\n",
    "    else:\n",
    "        return \"Correct spelling.\""
   ]
  },
  {
   "cell_type": "code",
   "execution_count": 51,
   "metadata": {},
   "outputs": [
    {
     "name": "stdout",
     "output_type": "stream",
     "text": [
      "Did you mean sherlock?\n"
     ]
    }
   ],
   "source": [
    "# test spell check\n",
    "print(spell_check(\"sherlok\"))"
   ]
  },
  {
   "cell_type": "markdown",
   "metadata": {},
   "source": [
    "###  1 edit distance words for \"emfasize\""
   ]
  },
  {
   "cell_type": "code",
   "execution_count": 57,
   "metadata": {},
   "outputs": [
    {
     "data": {
      "text/plain": [
       "442"
      ]
     },
     "execution_count": 57,
     "metadata": {},
     "output_type": "execute_result"
    }
   ],
   "source": [
    "len(edits_one(\"emfasize\"))"
   ]
  },
  {
   "cell_type": "markdown",
   "metadata": {},
   "source": [
    "###  Unique 2 edit distance words for \"emfasize\""
   ]
  },
  {
   "cell_type": "code",
   "execution_count": 58,
   "metadata": {},
   "outputs": [
    {
     "data": {
      "text/plain": [
       "90902"
      ]
     },
     "execution_count": 58,
     "metadata": {},
     "output_type": "execute_result"
    }
   ],
   "source": [
    "len(set(edits_two(\"emfasize\")))"
   ]
  },
  {
   "cell_type": "markdown",
   "metadata": {},
   "source": [
    "### Number of possible correction for the word \"emfasize\""
   ]
  },
  {
   "cell_type": "code",
   "execution_count": 59,
   "metadata": {},
   "outputs": [
    {
     "data": {
      "text/plain": [
       "1"
      ]
     },
     "execution_count": 59,
     "metadata": {},
     "output_type": "execute_result"
    }
   ],
   "source": [
    "len(possible_corrections(\"emfasize\"))"
   ]
  },
  {
   "cell_type": "code",
   "execution_count": 60,
   "metadata": {},
   "outputs": [
    {
     "data": {
      "text/plain": [
       "{'emphasize'}"
      ]
     },
     "execution_count": 60,
     "metadata": {},
     "output_type": "execute_result"
    }
   ],
   "source": [
    "possible_corrections(\"emfasize\")"
   ]
  },
  {
   "cell_type": "code",
   "execution_count": null,
   "metadata": {},
   "outputs": [],
   "source": []
  }
 ],
 "metadata": {
  "kernelspec": {
   "display_name": "Python 3",
   "language": "python",
   "name": "python3"
  },
  "language_info": {
   "codemirror_mode": {
    "name": "ipython",
    "version": 3
   },
   "file_extension": ".py",
   "mimetype": "text/x-python",
   "name": "python",
   "nbconvert_exporter": "python",
   "pygments_lexer": "ipython3",
   "version": "3.7.1rc2"
  }
 },
 "nbformat": 4,
 "nbformat_minor": 2
}
